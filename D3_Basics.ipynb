{
 "cells": [
  {
   "cell_type": "code",
   "execution_count": 17,
   "metadata": {
    "collapsed": true
   },
   "outputs": [],
   "source": [
    "%matplotlib inline\n",
    "import numpy as np\n",
    "import pandas as pd\n",
    "import matplotlib.pyplot as plt"
   ]
  },
  {
   "cell_type": "code",
   "execution_count": 18,
   "metadata": {
    "collapsed": false
   },
   "outputs": [
    {
     "name": "stdout",
     "output_type": "stream",
     "text": [
      "\u001b[1m\u001b[31mLICENSE\u001b[m\u001b[m*             \u001b[1m\u001b[31md3.min.js\u001b[m\u001b[m*           \u001b[1m\u001b[31mpackage.json\u001b[m\u001b[m*\r\n",
      "\u001b[1m\u001b[31mMakefile\u001b[m\u001b[m*            \u001b[1m\u001b[31mglobals.js\u001b[m\u001b[m*          \u001b[1m\u001b[36msrc\u001b[m\u001b[m/\r\n",
      "\u001b[1m\u001b[31mREADME.md\u001b[m\u001b[m*           \u001b[1m\u001b[31mindex-browserify.js\u001b[m\u001b[m* \u001b[1m\u001b[36mtest\u001b[m\u001b[m/\r\n",
      "\u001b[1m\u001b[31mcomponent.json\u001b[m\u001b[m*      \u001b[1m\u001b[31mindex.js\u001b[m\u001b[m*\r\n",
      "\u001b[1m\u001b[31md3.js\u001b[m\u001b[m*               \u001b[1m\u001b[36mlib\u001b[m\u001b[m/\r\n"
     ]
    }
   ],
   "source": [
    "%ls d3-3.1.0/"
   ]
  },
  {
   "cell_type": "code",
   "execution_count": 19,
   "metadata": {
    "collapsed": false
   },
   "outputs": [
    {
     "data": {
      "application/javascript": [
       "\n",
       "var hello = 'hello'\n",
       "console.log(hello)"
      ],
      "text/plain": [
       "<IPython.core.display.Javascript object>"
      ]
     },
     "metadata": {},
     "output_type": "display_data"
    }
   ],
   "source": [
    "%%javascript\n",
    "\n",
    "var hello = 'hello'\n",
    "console.log(hello)"
   ]
  },
  {
   "cell_type": "code",
   "execution_count": 20,
   "metadata": {
    "collapsed": true
   },
   "outputs": [],
   "source": [
    "from IPython.core.display import display, Javascript"
   ]
  },
  {
   "cell_type": "code",
   "execution_count": 21,
   "metadata": {
    "collapsed": false
   },
   "outputs": [
    {
     "data": {
      "application/javascript": [
       "\n",
       "    if (window.d3 === undefined){   \n",
       "        require.config({ paths: {d3: \"http://d3js.org/d3.v3.min\"} });\n",
       "        require(['d3'], function(d3) {\n",
       "            window.d3 = d3;\n",
       "            console.log(window.d3);\n",
       "        });\n",
       "    };\n"
      ],
      "text/plain": [
       "<IPython.core.display.Javascript object>"
      ]
     },
     "metadata": {},
     "output_type": "display_data"
    }
   ],
   "source": [
    "require_js = '''\n",
    "    if (window.d3 === undefined){{   \n",
    "        require.config({{ paths: {{d3: \"http://d3js.org/d3.v3.min\"}} }});\n",
    "        require(['d3'], function(d3) {{\n",
    "            window.d3 = d3;\n",
    "            console.log(window.d3);\n",
    "        }});\n",
    "    }};\n",
    "'''\n",
    "display(Javascript(require_js.format()))"
   ]
  },
  {
   "cell_type": "code",
   "execution_count": 22,
   "metadata": {
    "collapsed": false
   },
   "outputs": [
    {
     "data": {
      "text/html": [
       "\n",
       "<div id=\"d3-example\"></div>\n",
       "\n",
       "<style>\n",
       ".node {stroke: #fff; stroke-width: 1.5px;}\n",
       ".link {stroke: #999; stroke-opacity: .6;}\n",
       "</style>"
      ],
      "text/plain": [
       "<IPython.core.display.HTML object>"
      ]
     },
     "metadata": {},
     "output_type": "display_data"
    }
   ],
   "source": [
    "%%html\n",
    "\n",
    "<div id=\"d3-example\"></div>\n",
    "\n",
    "<style>\n",
    ".node {stroke: #fff; stroke-width: 1.5px;}\n",
    ".link {stroke: #999; stroke-opacity: .6;}\n",
    "</style>"
   ]
  },
  {
   "cell_type": "code",
   "execution_count": 23,
   "metadata": {
    "collapsed": false
   },
   "outputs": [
    {
     "data": {
      "text/html": [
       "\n",
       "<div class='bar'></div>\n",
       "\n",
       "<style>\n",
       "div.bar {\n",
       "    display: inline-block;\n",
       "    width: 20px;\n",
       "    height: 75px;   /* We'll override height later */\n",
       "    background-color: teal;\n",
       "}\n",
       "</style>"
      ],
      "text/plain": [
       "<IPython.core.display.HTML object>"
      ]
     },
     "metadata": {},
     "output_type": "display_data"
    }
   ],
   "source": [
    "%%html\n",
    "\n",
    "<div class='bar'></div>\n",
    "\n",
    "<style>\n",
    "div.bar {\n",
    "    display: inline-block;\n",
    "    width: 20px;\n",
    "    height: 75px;   /* We'll override height later */\n",
    "    background-color: teal;\n",
    "}\n",
    "</style>"
   ]
  },
  {
   "cell_type": "code",
   "execution_count": 24,
   "metadata": {
    "collapsed": false
   },
   "outputs": [
    {
     "data": {
      "application/javascript": [
       "var dataset = [ 5, 10, 15, 20, 25 ];\n",
       "\n",
       "d3.select(\"#d3-example\").selectAll(\"div\").style(\"height\", function(d) {\n",
       "    var barHeight = d * 5;  //Scale up by factor of 5\n",
       "    return barHeight + \"px\";\n",
       "}).style(\"margin-right\", \"2px\");"
      ],
      "text/plain": [
       "<IPython.core.display.Javascript object>"
      ]
     },
     "metadata": {},
     "output_type": "display_data"
    }
   ],
   "source": [
    "%%javascript\n",
    "var dataset = [ 5, 10, 15, 20, 25 ];\n",
    "\n",
    "d3.select(\"#d3-example\").selectAll(\"div\").style(\"height\", function(d) {\n",
    "    var barHeight = d * 5;  //Scale up by factor of 5\n",
    "    return barHeight + \"px\";\n",
    "}).style(\"margin-right\", \"2px\");"
   ]
  },
  {
   "cell_type": "code",
   "execution_count": 26,
   "metadata": {
    "collapsed": false
   },
   "outputs": [
    {
     "data": {
      "application/javascript": [
       "var w = 500;\n",
       "var h = 50;\n",
       "var dataset = [ 5, 10, 15, 20, 25 ];\n",
       "\n",
       "var svg = d3.select(\"#d3-example\")\n",
       "            .append(\"svg\")\n",
       "            .attr(\"width\", w)   \n",
       "            .attr(\"height\", h);\n",
       "            \n",
       "var circles = svg.selectAll(\"circle\")\n",
       "                 .data(dataset)\n",
       "                 .enter()\n",
       "                 .append(\"circle\");\n",
       "\n",
       "circles.attr(\"cx\", function(d, i) {\n",
       "            return (i * 50) + 25;\n",
       "        })\n",
       "       .attr(\"cy\", h/2)\n",
       "       .attr(\"r\", function(d) {\n",
       "            return d;\n",
       "       })\n",
       "       .attr(\"fill\", function(d) {\n",
       "            return \"rgb(0, 0, \" + (d * 10) + \")\";\n",
       "       });"
      ],
      "text/plain": [
       "<IPython.core.display.Javascript object>"
      ]
     },
     "metadata": {},
     "output_type": "display_data"
    }
   ],
   "source": [
    "%%javascript\n",
    "var w = 500;\n",
    "var h = 50;\n",
    "var dataset = [ 5, 10, 15, 20, 25 ];\n",
    "\n",
    "var svg = d3.select(\"#d3-example\")\n",
    "            .append(\"svg\")\n",
    "            .attr(\"width\", w)   \n",
    "            .attr(\"height\", h);\n",
    "            \n",
    "var circles = svg.selectAll(\"circle\")\n",
    "                 .data(dataset)\n",
    "                 .enter()\n",
    "                 .append(\"circle\");\n",
    "\n",
    "circles.attr(\"cx\", function(d, i) {\n",
    "            return (i * 50) + 25;\n",
    "        })\n",
    "       .attr(\"cy\", h/2)\n",
    "       .attr(\"r\", function(d) {\n",
    "            return d;\n",
    "       })\n",
    "       .attr(\"fill\", function(d) {\n",
    "            return \"rgb(0, 0, \" + (d * 10) + \")\";\n",
    "       });"
   ]
  },
  {
   "cell_type": "code",
   "execution_count": 11,
   "metadata": {
    "collapsed": false
   },
   "outputs": [
    {
     "data": {
      "application/javascript": [
       "var w = 500;\n",
       "var h = 250;\n",
       "var barPadding = 1;\n",
       "var dataset = [ 5, 10, 13, 19, 21, 25, 22, 18, 15, 13,\n",
       "                11, 12, 15, 20, 18, 17, 16, 18, 23, 25 ];\n",
       "\n",
       "var svg = d3.select(\"#d3-example\")\n",
       "            .append(\"svg\")\n",
       "            .attr(\"width\", w)   \n",
       "            .attr(\"height\", h);\n",
       "\n",
       "var bars = svg.selectAll(\"div\")\n",
       "    .data(dataset)\n",
       "    .enter()\n",
       "    .append(\"div\")\n",
       "    .attr(\"class\", \"bar\")\n",
       "    .style(\"height\", function(d) {\n",
       "        var barHeight = d * 5;\n",
       "        return barHeight + \"px\";\n",
       "    });\n",
       "\n",
       "bars.attr(\"fill\", function(d) {\n",
       "            return \"rgb(0, 0, \" + (d * 10) + \")\";\n",
       "       })\n",
       "       .text(function(d) {\n",
       "            return d;\n",
       "       })\n",
       "       .attr(\"x\", function(d, i) {\n",
       "            return i * (w / dataset.length) + (w / dataset.length - barPadding) / 2;\n",
       "       })\n",
       "       .attr(\"y\", function(d) {\n",
       "            return h - (d * 4) + 14;  \n",
       "       })\n",
       "       .attr(\"font-family\", \"sans-serif\")\n",
       "       .attr(\"font-size\", \"11px\")\n",
       "       .attr(\"fill\", \"white\")\n",
       "       .attr(\"text-anchor\", \"middle\");"
      ],
      "text/plain": [
       "<IPython.core.display.Javascript object>"
      ]
     },
     "metadata": {},
     "output_type": "display_data"
    }
   ],
   "source": [
    "%%javascript\n",
    "var w = 500;\n",
    "var h = 250;\n",
    "var barPadding = 1;\n",
    "var dataset = [ 5, 10, 13, 19, 21, 25, 22, 18, 15, 13,\n",
    "                11, 12, 15, 20, 18, 17, 16, 18, 23, 25 ];\n",
    "\n",
    "var svg = d3.select(\"#d3-example\")\n",
    "            .append(\"svg\")\n",
    "            .attr(\"width\", w)   \n",
    "            .attr(\"height\", h);\n",
    "\n",
    "var bars = svg.selectAll(\"div\")\n",
    "    .data(dataset)\n",
    "    .enter()\n",
    "    .append(\"div\")\n",
    "    .attr(\"class\", \"bar\")\n",
    "    .style(\"height\", function(d) {\n",
    "        var barHeight = d * 5;\n",
    "        return barHeight + \"px\";\n",
    "    });\n",
    "\n",
    "bars.attr(\"fill\", function(d) {\n",
    "            return \"rgb(0, 0, \" + (d * 10) + \")\";\n",
    "       })\n",
    "       .text(function(d) {\n",
    "            return d;\n",
    "       })\n",
    "       .attr(\"x\", function(d, i) {\n",
    "            return i * (w / dataset.length) + (w / dataset.length - barPadding) / 2;\n",
    "       })\n",
    "       .attr(\"y\", function(d) {\n",
    "            return h - (d * 4) + 14;  \n",
    "       })\n",
    "       .attr(\"font-family\", \"sans-serif\")\n",
    "       .attr(\"font-size\", \"11px\")\n",
    "       .attr(\"fill\", \"white\")\n",
    "       .attr(\"text-anchor\", \"middle\");"
   ]
  },
  {
   "cell_type": "markdown",
   "metadata": {},
   "source": [
    "We want to visualize tSNE using D3, that's a great stuff"
   ]
  },
  {
   "cell_type": "code",
   "execution_count": 32,
   "metadata": {
    "collapsed": false
   },
   "outputs": [],
   "source": [
    "# %load \"/Volumes/STORAGE/data/tools/tsne.py\"\n",
    "#\n",
    "#  tsne.py\n",
    "#  \n",
    "# Implementation of t-SNE in Python. The implementation was tested on Python 2.5.1, and it requires a working \n",
    "# installation of NumPy. The implementation comes with an example on the MNIST dataset. In order to plot the\n",
    "# results of this example, a working installation of matplotlib is required.\n",
    "# The example can be run by executing: ipython tsne.py -pylab\n",
    "#\n",
    "#\n",
    "#  Created by Laurens van der Maaten on 20-12-08.\n",
    "#  Copyright (c) 2008 Tilburg University. All rights reserved.\n",
    "\n",
    "import numpy as Math\n",
    "import pylab as Plot\n",
    "\t\n",
    "def Hbeta(D = Math.array([]), beta = 1.0):\n",
    "\t\"\"\"Compute the perplexity and the P-row for a specific value of the precision of a Gaussian distribution.\"\"\"\n",
    "\t\n",
    "\t# Compute P-row and corresponding perplexity\n",
    "\tP = Math.exp(-D.copy() * beta);\n",
    "\tsumP = sum(P);\n",
    "\tH = Math.log(sumP) + beta * Math.sum(D * P) / sumP;\n",
    "\tP = P / sumP;\n",
    "\treturn H, P;\n",
    "\t\n",
    "\t\n",
    "def x2p(X = Math.array([]), tol = 1e-5, perplexity = 30.0):\n",
    "\t\"\"\"Performs a binary search to get P-values in such a way that each conditional Gaussian has the same perplexity.\"\"\"\n",
    "\n",
    "\t# Initialize some variables\n",
    "\tprint \"Computing pairwise distances...\"\n",
    "\t(n, d) = X.shape;\n",
    "\tsum_X = Math.sum(Math.square(X), 1);\n",
    "\tD = Math.add(Math.add(-2 * Math.dot(X, X.T), sum_X).T, sum_X);\n",
    "\tP = Math.zeros((n, n));\n",
    "\tbeta = Math.ones((n, 1));\n",
    "\tlogU = Math.log(perplexity);\n",
    "    \n",
    "\t# Loop over all datapoints\n",
    "\tfor i in range(n):\n",
    "\t\n",
    "\t\t# Print progress\n",
    "\t\tif i % 500 == 0:\n",
    "\t\t\tprint \"Computing P-values for point \", i, \" of \", n, \"...\"\n",
    "\t\n",
    "\t\t# Compute the Gaussian kernel and entropy for the current precision\n",
    "\t\tbetamin = -Math.inf; \n",
    "\t\tbetamax =  Math.inf;\n",
    "\t\tDi = D[i, Math.concatenate((Math.r_[0:i], Math.r_[i+1:n]))];\n",
    "\t\t(H, thisP) = Hbeta(Di, beta[i]);\n",
    "\t\t\t\n",
    "\t\t# Evaluate whether the perplexity is within tolerance\n",
    "\t\tHdiff = H - logU;\n",
    "\t\ttries = 0;\n",
    "\t\twhile Math.abs(Hdiff) > tol and tries < 50:\n",
    "\t\t\t\t\n",
    "\t\t\t# If not, increase or decrease precision\n",
    "\t\t\tif Hdiff > 0:\n",
    "\t\t\t\tbetamin = beta[i];\n",
    "\t\t\t\tif betamax == Math.inf or betamax == -Math.inf:\n",
    "\t\t\t\t\tbeta[i] = beta[i] * 2;\n",
    "\t\t\t\telse:\n",
    "\t\t\t\t\tbeta[i] = (beta[i] + betamax) / 2;\n",
    "\t\t\telse:\n",
    "\t\t\t\tbetamax = beta[i];\n",
    "\t\t\t\tif betamin == Math.inf or betamin == -Math.inf:\n",
    "\t\t\t\t\tbeta[i] = beta[i] / 2;\n",
    "\t\t\t\telse:\n",
    "\t\t\t\t\tbeta[i] = (beta[i] + betamin) / 2;\n",
    "\t\t\t\n",
    "\t\t\t# Recompute the values\n",
    "\t\t\t(H, thisP) = Hbeta(Di, beta[i]);\n",
    "\t\t\tHdiff = H - logU;\n",
    "\t\t\ttries = tries + 1;\n",
    "\t\t\t\n",
    "\t\t# Set the final row of P\n",
    "\t\tP[i, Math.concatenate((Math.r_[0:i], Math.r_[i+1:n]))] = thisP;\n",
    "\t\n",
    "\t# Return final P-matrix\n",
    "\tprint \"Mean value of sigma: \", Math.mean(Math.sqrt(1 / beta))\n",
    "\treturn P;\n",
    "\t\n",
    "\t\n",
    "def pca(X = Math.array([]), no_dims = 50):\n",
    "\t\"\"\"Runs PCA on the NxD array X in order to reduce its dimensionality to no_dims dimensions.\"\"\"\n",
    "\n",
    "\tprint \"Preprocessing the data using PCA...\"\n",
    "\t(n, d) = X.shape;\n",
    "\tX = X - Math.tile(Math.mean(X, 0), (n, 1));\n",
    "\t(l, M) = Math.linalg.eig(Math.dot(X.T, X));\n",
    "\tY = Math.dot(X, M[:,0:no_dims]);\n",
    "\treturn Y;\n",
    "\n",
    "\n",
    "def tsne(X = Math.array([]), no_dims = 2, initial_dims = 50, perplexity = 30.0):\n",
    "\t\"\"\"Runs t-SNE on the dataset in the NxD array X to reduce its dimensionality to no_dims dimensions.\n",
    "\tThe syntaxis of the function is Y = tsne.tsne(X, no_dims, perplexity), where X is an NxD NumPy array.\"\"\"\n",
    "\t\n",
    "\t# Check inputs\n",
    "\tif X.dtype != \"float64\":\n",
    "\t\tprint \"Error: array X should have type float64.\";\n",
    "\t\treturn -1;\n",
    "\t#if no_dims.__class__ != \"<type 'int'>\":\t\t\t# doesn't work yet!\n",
    "\t#\tprint \"Error: number of dimensions should be an integer.\";\n",
    "\t#\treturn -1;\n",
    "\t\n",
    "\t# Initialize variables\n",
    "\tX = pca(X, initial_dims);\n",
    "\t(n, d) = X.shape;\n",
    "\tmax_iter = 1000;\n",
    "\tinitial_momentum = 0.5;\n",
    "\tfinal_momentum = 0.8;\n",
    "\teta = 500;\n",
    "\tmin_gain = 0.01;\n",
    "\tY = Math.random.randn(n, no_dims);\n",
    "\tdY = Math.zeros((n, no_dims));\n",
    "\tiY = Math.zeros((n, no_dims));\n",
    "\tgains = Math.ones((n, no_dims));\n",
    "\t\n",
    "\t# Compute P-values\n",
    "\tP = x2p(X, 1e-5, perplexity);\n",
    "\tP = P + Math.transpose(P);\n",
    "\tP = P / Math.sum(P);\n",
    "\tP = P * 4;\t\t\t\t\t\t\t\t\t# early exaggeration\n",
    "\tP = Math.maximum(P, 1e-12);\n",
    "\t\n",
    "\t# Run iterations\n",
    "\tfor iter in range(max_iter):\n",
    "\t\t\n",
    "\t\t# Compute pairwise affinities\n",
    "\t\tsum_Y = Math.sum(Math.square(Y), 1);\t\t\n",
    "\t\tnum = 1 / (1 + Math.add(Math.add(-2 * Math.dot(Y, Y.T), sum_Y).T, sum_Y));\n",
    "\t\tnum[range(n), range(n)] = 0;\n",
    "\t\tQ = num / Math.sum(num);\n",
    "\t\tQ = Math.maximum(Q, 1e-12);\n",
    "\t\t\n",
    "\t\t# Compute gradient\n",
    "\t\tPQ = P - Q;\n",
    "\t\tfor i in range(n):\n",
    "\t\t\tdY[i,:] = Math.sum(Math.tile(PQ[:,i] * num[:,i], (no_dims, 1)).T * (Y[i,:] - Y), 0);\n",
    "\t\t\t\n",
    "\t\t# Perform the update\n",
    "\t\tif iter < 20:\n",
    "\t\t\tmomentum = initial_momentum\n",
    "\t\telse:\n",
    "\t\t\tmomentum = final_momentum\n",
    "\t\tgains = (gains + 0.2) * ((dY > 0) != (iY > 0)) + (gains * 0.8) * ((dY > 0) == (iY > 0));\n",
    "\t\tgains[gains < min_gain] = min_gain;\n",
    "\t\tiY = momentum * iY - eta * (gains * dY);\n",
    "\t\tY = Y + iY;\n",
    "\t\tY = Y - Math.tile(Math.mean(Y, 0), (n, 1));\n",
    "\t\t\n",
    "\t\t# Compute current value of cost function\n",
    "\t\tif (iter + 1) % 10 == 0:\n",
    "\t\t\tC = Math.sum(P * Math.log(P / Q));\n",
    "\t\t\tprint \"Iteration \", (iter + 1), \": error is \", C\n",
    "\t\t\t\n",
    "\t\t# Stop lying about P-values\n",
    "\t\tif iter == 100:\n",
    "\t\t\tP = P / 4;\n",
    "\t\t\t\n",
    "\t# Return solution\n",
    "\treturn Y;\n",
    "\t\t\n",
    "\t\n",
    "# if __name__ == \"__main__\":\n",
    "\t# print \"Run Y = tsne.tsne(X, no_dims, perplexity) to perform t-SNE on your dataset.\"\n",
    "\t# print \"Running example on 2,500 MNIST digits...\"\n",
    "\t# X = Math.loadtxt(\"mnist2500_X.txt\");\n",
    "\t# labels = Math.loadtxt(\"mnist2500_labels.txt\");\n",
    "\t# Y = tsne(X, 2, 50, 20.0);\n",
    "\t# Plot.scatter(Y[:,0], Y[:,1], 20, labels);\n"
   ]
  },
  {
   "cell_type": "code",
   "execution_count": 34,
   "metadata": {
    "collapsed": false,
    "scrolled": true
   },
   "outputs": [
    {
     "name": "stdout",
     "output_type": "stream",
     "text": [
      "Preprocessing the data using PCA...\n",
      "Computing pairwise distances...\n",
      "Computing P-values for point  0  of  2500 ...\n",
      "Computing P-values for point  500  of  2500 ...\n",
      "Computing P-values for point  1000  of  2500 ...\n",
      "Computing P-values for point  1500  of  2500 ...\n",
      "Computing P-values for point  2000  of  2500 ...\n",
      "Mean value of sigma:  2.98303641893\n",
      "Iteration  10 : error is  19.3708714655\n",
      "Iteration  20 : error is  18.3409514299\n",
      "Iteration  30 : error is  16.5550734566\n",
      "Iteration  40 : error is  16.0133728771\n",
      "Iteration  50 : error is  16.0328585093\n",
      "Iteration  60 : error is  16.0270136535\n",
      "Iteration  70 : error is  15.9733132032\n",
      "Iteration  80 : error is  15.9455976394\n",
      "Iteration  90 : error is  15.9556588953\n",
      "Iteration  100 : error is  15.9910730603\n",
      "Iteration  110 : error is  2.11869358059\n",
      "Iteration  120 : error is  1.68281307748\n",
      "Iteration  130 : error is  1.47694558909\n",
      "Iteration  140 : error is  1.35425460656\n",
      "Iteration  150 : error is  1.27161190307\n",
      "Iteration  160 : error is  1.21325013234\n",
      "Iteration  170 : error is  1.1691051477\n",
      "Iteration  180 : error is  1.13478354593\n",
      "Iteration  190 : error is  1.10687625632\n",
      "Iteration  200 : error is  1.08400195781\n",
      "Iteration  210 : error is  1.06491494823\n",
      "Iteration  220 : error is  1.04876667287\n",
      "Iteration  230 : error is  1.03512329185\n",
      "Iteration  240 : error is  1.02340046029\n",
      "Iteration  250 : error is  1.01327881346\n",
      "Iteration  260 : error is  1.00444103923\n",
      "Iteration  270 : error is  0.996624418074\n",
      "Iteration  280 : error is  0.989661815562\n",
      "Iteration  290 : error is  0.983524710209\n",
      "Iteration  300 : error is  0.978070312899\n",
      "Iteration  310 : error is  0.973185029729\n",
      "Iteration  320 : error is  0.968874723237\n",
      "Iteration  330 : error is  0.965000761647\n",
      "Iteration  340 : error is  0.961523739521\n",
      "Iteration  350 : error is  0.958381255323\n",
      "Iteration  360 : error is  0.955513500681\n",
      "Iteration  370 : error is  0.95289249591\n",
      "Iteration  380 : error is  0.950496513146\n",
      "Iteration  390 : error is  0.948285944971\n",
      "Iteration  400 : error is  0.946293436802\n",
      "Iteration  410 : error is  0.944457332618\n",
      "Iteration  420 : error is  0.942754603877\n",
      "Iteration  430 : error is  0.941174425706\n",
      "Iteration  440 : error is  0.939713841095\n",
      "Iteration  450 : error is  0.938363327359\n",
      "Iteration  460 : error is  0.937109967239\n",
      "Iteration  470 : error is  0.935941110709\n",
      "Iteration  480 : error is  0.934848034972\n",
      "Iteration  490 : error is  0.933823618096\n",
      "Iteration  500 : error is  0.932863475195\n",
      "Iteration  510 : error is  0.931963073138\n",
      "Iteration  520 : error is  0.931117986603\n",
      "Iteration  530 : error is  0.930317862062\n",
      "Iteration  540 : error is  0.929529867409\n",
      "Iteration  550 : error is  0.928647877548\n",
      "Iteration  560 : error is  0.927948167156\n",
      "Iteration  570 : error is  0.92725509649\n",
      "Iteration  580 : error is  0.926632139243\n",
      "Iteration  590 : error is  0.925974452248\n",
      "Iteration  600 : error is  0.925370433639\n",
      "Iteration  610 : error is  0.924738998542\n",
      "Iteration  620 : error is  0.924217874087\n",
      "Iteration  630 : error is  0.923643823736\n",
      "Iteration  640 : error is  0.923169911878\n",
      "Iteration  650 : error is  0.922748858407\n",
      "Iteration  660 : error is  0.922365428372\n",
      "Iteration  670 : error is  0.922009117037\n",
      "Iteration  680 : error is  0.921673240926\n",
      "Iteration  690 : error is  0.92135644116\n",
      "Iteration  700 : error is  0.921052360507\n",
      "Iteration  710 : error is  0.92075349262\n",
      "Iteration  720 : error is  0.920462775219\n",
      "Iteration  730 : error is  0.920194309114\n",
      "Iteration  740 : error is  0.919945417436\n",
      "Iteration  750 : error is  0.91970887445\n",
      "Iteration  760 : error is  0.91948231627\n",
      "Iteration  770 : error is  0.919264284036\n",
      "Iteration  780 : error is  0.919052399094\n",
      "Iteration  790 : error is  0.918846004089\n",
      "Iteration  800 : error is  0.918645552286\n",
      "Iteration  810 : error is  0.918452377848\n",
      "Iteration  820 : error is  0.91827067316\n",
      "Iteration  830 : error is  0.918098551638\n",
      "Iteration  840 : error is  0.917932733951\n",
      "Iteration  850 : error is  0.917772170418\n",
      "Iteration  860 : error is  0.917615898593\n",
      "Iteration  870 : error is  0.917462953534\n",
      "Iteration  880 : error is  0.917315317047\n",
      "Iteration  890 : error is  0.9171726564\n",
      "Iteration  900 : error is  0.917010401116\n",
      "Iteration  910 : error is  0.916848136836\n",
      "Iteration  920 : error is  0.916690099495\n",
      "Iteration  930 : error is  0.916558682173\n",
      "Iteration  940 : error is  0.916439725823\n",
      "Iteration  950 : error is  0.916328215156\n",
      "Iteration  960 : error is  0.91622267241\n",
      "Iteration  970 : error is  0.91612231857\n",
      "Iteration  980 : error is  0.916026489561\n",
      "Iteration  990 : error is  0.915934221953\n",
      "Iteration  1000 : error is  0.915845148477\n"
     ]
    },
    {
     "name": "stderr",
     "output_type": "stream",
     "text": [
      "/Users/tubi/anaconda/lib/python2.7/site-packages/IPython/kernel/__main__.py:78: ComplexWarning: Casting complex values to real discards the imaginary part\n"
     ]
    }
   ],
   "source": [
    "# load the MNIST data set \n",
    "X = np.loadtxt(\"/Volumes/STORAGE/data/tools/tsne_python/mnist2500_X.txt\")\n",
    "labels = np.loadtxt(\"/Volumes/STORAGE/data/tools/tsne_python/mnist2500_labels.txt\")\n",
    "Y = tsne(X, no_dims=2, initial_dims=87, perplexity=20.0)  # 87 dimensions in PCA to keep 90% of the variance"
   ]
  },
  {
   "cell_type": "code",
   "execution_count": 40,
   "metadata": {
    "collapsed": false
   },
   "outputs": [
    {
     "data": {
      "text/plain": [
       "(2500, 2)"
      ]
     },
     "execution_count": 40,
     "metadata": {},
     "output_type": "execute_result"
    }
   ],
   "source": [
    "Y.shape   # just basically a scatter plot"
   ]
  },
  {
   "cell_type": "code",
   "execution_count": 67,
   "metadata": {
    "collapsed": false
   },
   "outputs": [
    {
     "data": {
      "text/plain": [
       "(2500,)"
      ]
     },
     "execution_count": 67,
     "metadata": {},
     "output_type": "execute_result"
    }
   ],
   "source": [
    "labels.shape"
   ]
  },
  {
   "cell_type": "code",
   "execution_count": 262,
   "metadata": {
    "collapsed": false
   },
   "outputs": [
    {
     "name": "stderr",
     "output_type": "stream",
     "text": [
      "/Users/tubi/anaconda/lib/python2.7/site-packages/IPython/kernel/__main__.py:5: SettingWithCopyWarning: \n",
      "A value is trying to be set on a copy of a slice from a DataFrame\n",
      "\n",
      "See the the caveats in the documentation: http://pandas.pydata.org/pandas-docs/stable/indexing.html#indexing-view-versus-copy\n"
     ]
    }
   ],
   "source": [
    "# export the data into csv\n",
    "data = pd.DataFrame(Y, columns=['X', 'Y'])\n",
    "data['raw'] = ''\n",
    "for i, row in enumerate(X):\n",
    "    data.raw[i] = ''.join(pd.Series(row).astype('int').astype('str'))\n",
    "\n",
    "data.X = data.X - data.X.min() + 20 # margin 20\n",
    "data.Y = data.Y - data.Y.min() + 20\n",
    "data['label'] = labels\n",
    "data.label = data.label.astype('int')\n",
    "data.to_csv(\"tsne_matrix.csv\", index=False)"
   ]
  },
  {
   "cell_type": "code",
   "execution_count": 12,
   "metadata": {
    "collapsed": false
   },
   "outputs": [
    {
     "name": "stdout",
     "output_type": "stream",
     "text": [
      "D3_Basics.ipynb  \u001b[1m\u001b[36md3-3.1.0\u001b[m\u001b[m/        tsne_matrix.csv\r\n"
     ]
    }
   ],
   "source": [
    "%ls"
   ]
  },
  {
   "cell_type": "code",
   "execution_count": 13,
   "metadata": {
    "collapsed": false
   },
   "outputs": [
    {
     "data": {
      "text/plain": [
       "['X,Y,raw,label',\n",
       " '70.78195276260732,75.58002913890462,1111111111111111111111111111111111111111111111111111111111111111111111111111111111111111111111111111111111111111111111111111111111111110011111111111111111111111111001111111111111111111111111000111111111100111111111111100011111111100001111111111100001111111110000011111111110000111111111000001111111110000011111111100000001111111000001111111100000000011111000001111111110000000000111100000111111111000001000001100000111111111100001111000010000011111111110000011100001000011111111111000001110000000001111111111100011111100000001111111111110001111111000001111111111111000111111111001111111111111100011111111111111111111111110001111111111111111111111111001111111111111111111111111111111111111111111111111111111111111111111111111111111111111111111111111111111111111111111111111111111111111,5']"
      ]
     },
     "execution_count": 13,
     "metadata": {},
     "output_type": "execute_result"
    }
   ],
   "source": [
    "%system head -n 2 tsne_matrix.csv"
   ]
  },
  {
   "cell_type": "code",
   "execution_count": 14,
   "metadata": {
    "collapsed": false,
    "scrolled": true
   },
   "outputs": [
    {
     "data": {
      "text/html": [
       "<div id='tsne'></div>\n",
       "\n",
       "<div id='digit' height='60' width='60' style='position:relative'>\n",
       "    <canvas height='58' width='58'></canvas>\n",
       "</div>\n",
       "\n",
       "<style>\n",
       "\n",
       "\n",
       ".tooltip {   \n",
       "    position:       absolute;\n",
       "    \n",
       "    box-shadow:     0 0 5px #999999;\n",
       "    text-align:     center; \n",
       "    width:          60px;\n",
       "    padding:        1px;             \n",
       "    font:           12px sans-serif;        \n",
       "    border:         1px;      \n",
       "    border-radius:  8px;           \n",
       "    pointer-events: none;         \n",
       "}\n",
       "\n",
       "</style>"
      ],
      "text/plain": [
       "<IPython.core.display.HTML object>"
      ]
     },
     "metadata": {},
     "output_type": "display_data"
    }
   ],
   "source": [
    "%%html\n",
    "<div id='tsne'></div>\n",
    "\n",
    "<div id='digit' height='60' width='60' style='position:relative'>\n",
    "    <canvas height='58' width='58'></canvas>\n",
    "</div>\n",
    "\n",
    "<style>\n",
    "\n",
    "\n",
    ".tooltip {   \n",
    "    position:       absolute;\n",
    "    \n",
    "    box-shadow:     0 0 5px #999999;\n",
    "    text-align:     center; \n",
    "    width:          60px;\n",
    "    padding:        1px;             \n",
    "    font:           12px sans-serif;        \n",
    "    border:         1px;      \n",
    "    border-radius:  8px;           \n",
    "    pointer-events: none;         \n",
    "}\n",
    "\n",
    "</style>"
   ]
  },
  {
   "cell_type": "code",
   "execution_count": 15,
   "metadata": {
    "collapsed": false
   },
   "outputs": [
    {
     "data": {
      "application/javascript": [
       "\n",
       "var tsne_data = [];\n",
       "var w = 500;\n",
       "var h = 500;\n",
       "\n",
       "// Reading the data from csv first \n",
       "d3.csv(\"tsne_matrix.csv\", function (data) {\n",
       "    tsne_data = data.map(function (row) { return { X: +row['X'], Y: +row['Y'], label: +row['label'], raw: row['raw'] }; });\n",
       "    console.log(tsne_data[0]);   // must be inside the callback\n",
       "    \n",
       "    var color = d3.scale.ordinal().domain(d3.range(10))\n",
       "        .range(['#CFD4C5', '#EFB9CB', '#C287E8', '#FCB97D', '#EDD892', '#C6B89E', '#AABA9E', '#50808E', '#F4FDD9', '#FFE8C2'])\n",
       "\n",
       "    // Creating a frame \n",
       "    var svg = d3.select('#tsne').append('svg').attr('width', w).attr('height', h);\n",
       "\n",
       "    var show_digit = function (canvas, string) {\n",
       "        var ctx = canvas.getContext('2d'); \n",
       "        ctx.fillStyle = \"#000\";                 // Fill with white first\n",
       "        ctx.fillRect(0, 0, d_len*step, d_len*step);\n",
       "        ctx.fillStyle = \"#FFF\";\n",
       "        for (var i = 0; i < d_len*step; i += step) {  // Loop through each character\n",
       "            for (var j = 0; j < d_len*step; j += step) {\n",
       "                if (string[(i*d_len+j)/step] == '1')     // If the character is one,\n",
       "                    ctx.fillRect(i, j, step, step);  // fill the pixel with black\n",
       "            }\n",
       "        }\n",
       "    };\n",
       "    \n",
       "    var d_len = 28;  // dimension of digit\n",
       "    var step  = 2;   // scale the image \n",
       "    \n",
       "    var tooltip = d3.select('#digit').attr('class', 'tooltip').style('opacity', 0); \n",
       "    \n",
       "    svg.selectAll('circle')\n",
       "        .data(tsne_data)\n",
       "        .enter().append('circle')   // after added circle\n",
       "        .attr(\"r\", 3)\n",
       "        .attr(\"cx\", function(d) { return d.X*3 ; })\n",
       "        .attr(\"cy\", function(d) { return d.Y*3 ; })\n",
       "        .style(\"fill\", function(d) { return color(d.label); })\n",
       "        .on('mouseover', function (d) {\n",
       "            \n",
       "            var canvas = tooltip.select('canvas')[0][0];  // one level for array\n",
       "            show_digit(canvas, d.raw);\n",
       "        \n",
       "            tooltip.transition().duration(100)\n",
       "                .style(\"opacity\", .9)\n",
       "                .style(\"left\", (d3.event.pageX - 300) + \"px\")\n",
       "                .style(\"top\", (d3.event.pageY - 500) + \"px\");                \n",
       "        })\n",
       "        .on('mouseout', function () {\n",
       "            tooltip.transition().duration(100).style(\"opacity\", 0); \n",
       "        });\n",
       "    \n",
       "}); "
      ],
      "text/plain": [
       "<IPython.core.display.Javascript object>"
      ]
     },
     "metadata": {},
     "output_type": "display_data"
    }
   ],
   "source": [
    "%%javascript\n",
    "\n",
    "var tsne_data = [];\n",
    "var w = 500;\n",
    "var h = 500;\n",
    "\n",
    "// Reading the data from csv first \n",
    "d3.csv(\"tsne_matrix.csv\", function (data) {\n",
    "    tsne_data = data.map(function (row) { return { X: +row['X'], Y: +row['Y'], label: +row['label'], raw: row['raw'] }; });\n",
    "    console.log(tsne_data[0]);   // must be inside the callback\n",
    "    \n",
    "    var color = d3.scale.ordinal().domain(d3.range(10))\n",
    "        .range(['#CFD4C5', '#EFB9CB', '#C287E8', '#FCB97D', '#EDD892', '#C6B89E', '#AABA9E', '#50808E', '#F4FDD9', '#FFE8C2'])\n",
    "\n",
    "    // Creating a frame \n",
    "    var svg = d3.select('#tsne').append('svg').attr('width', w).attr('height', h);\n",
    "\n",
    "    var show_digit = function (canvas, string) {\n",
    "        var ctx = canvas.getContext('2d'); \n",
    "        ctx.fillStyle = \"#000\";                 // Fill with white first\n",
    "        ctx.fillRect(0, 0, d_len*step, d_len*step);\n",
    "        ctx.fillStyle = \"#FFF\";\n",
    "        for (var i = 0; i < d_len*step; i += step) {  // Loop through each character\n",
    "            for (var j = 0; j < d_len*step; j += step) {\n",
    "                if (string[(i*d_len+j)/step] == '1')     // If the character is one,\n",
    "                    ctx.fillRect(i, j, step, step);  // fill the pixel with black\n",
    "            }\n",
    "        }\n",
    "    };\n",
    "    \n",
    "    var d_len = 28;  // dimension of digit\n",
    "    var step  = 2;   // scale the image \n",
    "    \n",
    "    var tooltip = d3.select('#digit').attr('class', 'tooltip').style('opacity', 0); \n",
    "    \n",
    "    svg.selectAll('circle')\n",
    "        .data(tsne_data)\n",
    "        .enter().append('circle')   // after added circle\n",
    "        .attr(\"r\", 3)\n",
    "        .attr(\"cx\", function(d) { return d.X*3 ; })\n",
    "        .attr(\"cy\", function(d) { return d.Y*3 ; })\n",
    "        .style(\"fill\", function(d) { return color(d.label); })\n",
    "        .on('mouseover', function (d) {\n",
    "            \n",
    "            var canvas = tooltip.select('canvas')[0][0];  // one level for array\n",
    "            show_digit(canvas, d.raw);\n",
    "        \n",
    "            tooltip.transition().duration(100)\n",
    "                .style(\"opacity\", .9)\n",
    "                .style(\"left\", (d3.event.pageX - 300) + \"px\")\n",
    "                .style(\"top\", (d3.event.pageY - 500) + \"px\");                \n",
    "        })\n",
    "        .on('mouseout', function () {\n",
    "            tooltip.transition().duration(100).style(\"opacity\", 0); \n",
    "        });\n",
    "    \n",
    "}); \n"
   ]
  },
  {
   "cell_type": "code",
   "execution_count": 16,
   "metadata": {
    "collapsed": false
   },
   "outputs": [
    {
     "data": {
      "text/html": [
       "<canvas id='can' width=\"56\" height=\"56\"></canvas>"
      ],
      "text/plain": [
       "<IPython.core.display.HTML object>"
      ]
     },
     "metadata": {},
     "output_type": "display_data"
    }
   ],
   "source": [
    "%%html\n",
    "<canvas id='can' width=\"56\" height=\"56\"></canvas>"
   ]
  },
  {
   "cell_type": "code",
   "execution_count": null,
   "metadata": {
    "collapsed": true
   },
   "outputs": [],
   "source": [
    "# todo: fix the position of the mouse when we point onto the top\n",
    "# effect of the circle when hover\n",
    "# ability to zoom in\n",
    "# do the analysis "
   ]
  }
 ],
 "metadata": {
  "kernelspec": {
   "display_name": "Python 2",
   "language": "python",
   "name": "python2"
  },
  "language_info": {
   "codemirror_mode": {
    "name": "ipython",
    "version": 2
   },
   "file_extension": ".py",
   "mimetype": "text/x-python",
   "name": "python",
   "nbconvert_exporter": "python",
   "pygments_lexer": "ipython2",
   "version": "2.7.10"
  }
 },
 "nbformat": 4,
 "nbformat_minor": 0
}
